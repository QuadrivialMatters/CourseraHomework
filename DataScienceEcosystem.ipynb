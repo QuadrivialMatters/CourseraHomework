{
 "cells": [
  {
   "cell_type": "markdown",
   "metadata": {},
   "source": [
    "<center>\n",
    "    <img src=\"https://cf-courses-data.s3.us.cloud-object-storage.appdomain.cloud/IBMDeveloperSkillsNetwork-DS0105EN-SkillsNetwork/labs/Module2/images/SN_web_lightmode.png\" width=\"300\" alt=\"cognitiveclass.ai logo\">\n",
    "</center>\n"
   ]
  },
  {
   "cell_type": "markdown",
   "metadata": {},
   "source": [
    "#### Add your code below following the instructions given in the course\n"
   ]
  },
  {
   "cell_type": "markdown",
   "metadata": {},
   "source": [
    "# Data Science Tools and Ecosystem"
   ]
  },
  {
   "cell_type": "markdown",
   "metadata": {},
   "source": [
    "## Author\n",
    "Eric Mack"
   ]
  },
  {
   "cell_type": "markdown",
   "metadata": {},
   "source": [
    "In this notebook  we will showcase some of what we have learned so far in this program about the tool and ecosystem in which Data Science is preformed."
   ]
  },
  {
   "cell_type": "markdown",
   "metadata": {},
   "source": [
    "__Objectives:__\n",
    "- list languages\n",
    "- list libraries\n",
    "- list open source IDE's\n",
    "- demo markdown short cuts\n",
    "- demo python coding"
   ]
  },
  {
   "cell_type": "markdown",
   "metadata": {},
   "source": [
    "Some of the popular languages that Data Scientist use include:\n",
    "1. Python\n",
    "2. R\n",
    "3. Scala\n",
    "4. C++"
   ]
  },
  {
   "cell_type": "markdown",
   "metadata": {},
   "source": [
    "Some of the commonly used libraries used in Data Science include:\n",
    "1. ggplot in R\n",
    "2. plotly in R\n",
    "3. pytorch in python\n",
    "4. matplotlib in python\n",
    "5. numpy in python\n",
    "6. seaborn in python\n",
    "7. tensorflow in Python and C++"
   ]
  },
  {
   "cell_type": "markdown",
   "metadata": {},
   "source": [
    "| Data Science Tools |\n",
    "|-----|\n",
    "|JupyterLabs|\n",
    "|Spyder|\n",
    "|RStudio|\n"
   ]
  },
  {
   "cell_type": "markdown",
   "metadata": {},
   "source": [
    "### Below are few examples of arithmetic expressions in Python"
   ]
  },
  {
   "cell_type": "code",
   "execution_count": 4,
   "metadata": {},
   "outputs": [
    {
     "data": {
      "text/plain": [
       "17"
      ]
     },
     "execution_count": 4,
     "metadata": {},
     "output_type": "execute_result"
    }
   ],
   "source": [
    "#This is a simple arithmetic expression to multiply then add integers.\n",
    "(3*4)+5"
   ]
  },
  {
   "cell_type": "code",
   "execution_count": 15,
   "metadata": {},
   "outputs": [
    {
     "name": "stdout",
     "output_type": "stream",
     "text": [
      "200 min = 3.3333333333333335 hours.\n",
      "200 minutes is equivalent to 3.3333333333333335 hours\n",
      "3.3333333333333335 hours is equivalent to 3 hours and 20 minutes.\n"
     ]
    }
   ],
   "source": [
    "#This will convert 200 minute to hours by dividing by 60\n",
    "#simple ver\n",
    "\n",
    "min=200\n",
    "hour=min/60\n",
    "print(str(min)+\" min = \"+str(hour)+\" hours.\")\n",
    "\n",
    "# med ver\n",
    "def MtoH(m):\n",
    "    h=m/60\n",
    "    return h\n",
    "h=MtoH(min)\n",
    "print(str(min) + \" minutes is equivalent to \" + str(MtoH(min)) + \" hours\")\n",
    "\n",
    "#adv ver\n",
    "import numpy as np\n",
    "def HandM(h):\n",
    "    minPart=int(60*(h-np.trunc(h)))\n",
    "    print(str(h) + \" hours is equivalent to \" +str(int(np.trunc(h)))+ \" hours and \"+str(minPart)+\" minutes.\")\n",
    "HandM(h)\n"
   ]
  },
  {
   "cell_type": "code",
   "execution_count": null,
   "metadata": {},
   "outputs": [],
   "source": []
  }
 ],
 "metadata": {
  "kernelspec": {
   "display_name": "Python 3 (ipykernel)",
   "language": "python",
   "name": "python3"
  },
  "language_info": {
   "codemirror_mode": {
    "name": "ipython",
    "version": 3
   },
   "file_extension": ".py",
   "mimetype": "text/x-python",
   "name": "python",
   "nbconvert_exporter": "python",
   "pygments_lexer": "ipython3",
   "version": "3.11.7"
  }
 },
 "nbformat": 4,
 "nbformat_minor": 4
}
